{
 "cells": [
  {
   "cell_type": "code",
   "execution_count": 2,
   "metadata": {},
   "outputs": [],
   "source": [
    "# https://www.lemhannas.go.id/index.php/berita/berita-utama?start=4\n",
    "# https://www.lemhannas.go.id/index.php/publikasi/press-release?start=244\n",
    "berita_list = []\n",
    "press_list = []\n",
    "\n",
    "for i in range(0, 2061, 4):\n",
    "    berita_list.append(f\"https://www.lemhannas.go.id/index.php/berita/berita-utama?start={i}\")\n",
    "    press_list.append(f\"https://www.lemhannas.go.id/index.php/publikasi/press-release?start={i}\")"
   ]
  },
  {
   "cell_type": "code",
   "execution_count": 4,
   "metadata": {},
   "outputs": [],
   "source": [
    "import csv\n",
    "\n",
    "# make csv file for both berita and press release\n",
    "with open(\"links.csv\", \"w\") as file:\n",
    "    writer = csv.writer(file)\n",
    "    writer.writerow([\"links\"])\n",
    "    for i in berita_list:\n",
    "        writer.writerow([i])\n",
    "    for i in press_list:\n",
    "        writer.writerow([i])"
   ]
  },
  {
   "cell_type": "code",
   "execution_count": 9,
   "metadata": {},
   "outputs": [
    {
     "name": "stdout",
     "output_type": "stream",
     "text": [
      "Starting the WebDriver session...\n",
      "Finding all links on the page...\n",
      "Total links: 0\n",
      "PDF links: 0\n"
     ]
    }
   ],
   "source": [
    "from selenium import webdriver\n",
    "from selenium.webdriver.common.by import By\n",
    "\n",
    "# Set up the webdriver (example with Chrome)\n",
    "options = webdriver.ChromeOptions()\n",
    "options.add_experimental_option(\"detach\", True)\n",
    "driver = webdriver.Chrome(options=options)\n",
    "\n",
    "print(\"Starting the WebDriver session...\")\n",
    "# Open the target page\n",
    "driver.get('https://www.lemhannas.go.id/index.php/publikasi/newsletter')  # Replace with your target URL\n",
    "\n",
    "# Find all <a> tags on the page\n",
    "print(\"Finding all links on the page...\")\n",
    "all_links = driver.find_elements(By.CSS_SELECTOR, 'div.sppb-addon-content a')\n",
    "print(f\"Total links: {len(all_links)}\")\n",
    "\n",
    "# Filter links that end with .pdf\n",
    "pdf_links = [link.get_attribute('href') for link in all_links if link.get_attribute('href') and link.get_attribute('href').endswith('.pdf')]\n",
    "print(f\"PDF links: {len(pdf_links)}\")\n",
    "\n",
    "# Close the driver\n",
    "driver.quit()"
   ]
  },
  {
   "cell_type": "code",
   "execution_count": null,
   "metadata": {},
   "outputs": [],
   "source": []
  }
 ],
 "metadata": {
  "kernelspec": {
   "display_name": "web-scrape",
   "language": "python",
   "name": "python3"
  },
  "language_info": {
   "codemirror_mode": {
    "name": "ipython",
    "version": 3
   },
   "file_extension": ".py",
   "mimetype": "text/x-python",
   "name": "python",
   "nbconvert_exporter": "python",
   "pygments_lexer": "ipython3",
   "version": "3.11.8"
  }
 },
 "nbformat": 4,
 "nbformat_minor": 2
}
